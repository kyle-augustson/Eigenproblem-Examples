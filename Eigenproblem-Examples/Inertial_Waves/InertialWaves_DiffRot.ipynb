{
 "cells": [
  {
   "cell_type": "markdown",
   "id": "cd8e1f67-d959-42be-86d3-753cd2c21f68",
   "metadata": {},
   "source": [
    "Alright onto more helio-relevant problems.  Let's consider diffusive inertial waves in a differentially rotating system with a constant density.  This system can be written as\n",
    "\n",
    "$$\n",
    "\\partial_t \\vec{u} + \\nabla p + \\hat{e}_z\\times \\vec{u} + \\left(\\nabla\\times\\vec{u}\\right)\\times\\vec{v}_0 + \\vec{\\omega}_0\\times\\vec{u} - Ek \\nabla^2 \\vec{u} = 0,\\\\\n",
    "\\nabla\\cdot\\vec{u} = 0,\n",
    "$$\n",
    "\n",
    "where $Ek$ is the Ekman number defined here as $\\nu/(2\\Omega_0 R^2)$, with $\\nu$ the kinematic viscosity, $\\Omega_0$ the bulk rotation rate, and $R$ the radius of the outer bounding sphere. Likewise, $\\vec{u}$ is the velocity, and $p$ a gauge field. Turning this into an eigenproblem, we assume oscillatory modes such that $\\vec{u} = \\overline{u} e^{-i\\omega t}$, more generally there can be non-normal behavior such that $\\vec{u} = \\overline{u} g(t)$ for some hopefully bounded $g(t)$. To assess that we can use pseudospectra, but I'll save that for another time.\n",
    "\n",
    "For now let us also consider the background velocity $\\vec{v}_0$ and vorticity $\\vec{\\omega}_0$ in the rotating frame to be:\n",
    "\n",
    "$$\n",
    "\\vec{v}_0 = \\frac{1}{40} r z \\sin(\\theta) \\left(1-z^{13}\\right) \\left(1 - \\alpha \\mu^2 - \\beta \\mu^4\\right) \\hat{\\varphi},\\\\\n",
    "\\vec{\\omega}_0 = \\nabla\\times{\\vec{v}_0}\n",
    "$$\n",
    "\n",
    "which is a cute fit to the Solar differential rotation, where $z=\\frac{r-r_i}{r_o-r_i}$ and $\\mu = \\cos(\\theta)$."
   ]
  },
  {
   "cell_type": "code",
   "execution_count": 1,
   "id": "3327a14c-c5a0-4e1d-9bf6-7d851a8985ad",
   "metadata": {},
   "outputs": [
    {
     "name": "stdout",
     "output_type": "stream",
     "text": [
      "2023-03-01 02:44:32,573 dedalus 0/1 WARNING :: Threading has not been disabled. This may massively degrade Dedalus performance.\n",
      "2023-03-01 02:44:32,574 dedalus 0/1 WARNING :: We strongly suggest setting the \"OMP_NUM_THREADS\" environment variable to \"1\".\n",
      "2023-03-01 02:44:32,733 numexpr.utils 0/1 INFO :: NumExpr defaulting to 8 threads.\n"
     ]
    }
   ],
   "source": [
    "#Let's get ourselves started with a few module imports.\n",
    "import os\n",
    "import numpy as np\n",
    "import dedalus.public as d3\n",
    "import matplotlib.pyplot as plt\n",
    "from dedalus.core import evaluator #currently necessary, will be obsolete soon."
   ]
  },
  {
   "cell_type": "code",
   "execution_count": 2,
   "id": "606979e3-766c-4063-9ca7-99fad6d026aa",
   "metadata": {},
   "outputs": [],
   "source": [
    "#Datatype\n",
    "dtype = np.complex128\n",
    "\n",
    "#Problem Parameters\n",
    "nphi=1 #We are going to look at axisymmetric waves here.\n",
    "ntheta=128 #Number of grid points in latitude (Legendre weights)\n",
    "nr=32 #Number of grid points in radius (Chebyshev weights)\n",
    "\n",
    "ri = 0.70    #Inner radius\n",
    "ro = 1.00    #Outer radius\n",
    "Ek = 1e-4    #Ekman number\n",
    "\n",
    "# Set up output directory for eigenmodes\n",
    "label='0'\n",
    "data_dir = 'Inertial_Waves_Ek{:.2f}'.format(np.log10(Ek))+'_'+label\n",
    "\n",
    "#Define radii for coordinate system creators\n",
    "radii = (ri,ro)"
   ]
  },
  {
   "cell_type": "code",
   "execution_count": 3,
   "id": "5f4f3868-4cbb-4b75-8ac9-4af8ffdc99b5",
   "metadata": {},
   "outputs": [],
   "source": [
    "#For eigenproblems there's no MPI mesh for dedalus, but there can be for SLEPc.\n",
    "mesh = None\n",
    "# Bases\n",
    "coords = d3.SphericalCoordinates('phi', 'theta', 'r') #Define the spherical coordinate names\n",
    "dist = d3.Distributor(coords, mesh=mesh, dtype=dtype) #Set up the internal communicators and initialize.\n",
    "#Define a shell basis (so Tensor spherical harmonics and a Chebyshev radial basis)\n",
    "shell = d3.ShellBasis(coords, shape=(nphi,ntheta,nr), radii=radii, dtype=dtype)\n",
    "sphere = shell.outer_surface #Define the bounding sphere coordinate systems (e.g. S_2)\n",
    "phi, theta, r = dist.local_grids(shell) #Get local coordinate arrays"
   ]
  },
  {
   "cell_type": "code",
   "execution_count": 4,
   "id": "1b0d83b5-0d04-405b-997a-af7248757b6c",
   "metadata": {},
   "outputs": [],
   "source": [
    "# Fields over the shell\n",
    "u = dist.VectorField(coords, bases=shell, name='u') #Vector velocity field\n",
    "v0 = dist.VectorField(coords, bases=shell.meridional_basis, name='v0') #Background velocity\n",
    "w0 = dist.VectorField(coords, bases=shell.meridional_basis, name='w0') #Background vorticity\n",
    "p = dist.Field(bases=shell, name='p') #Gauge field.\n",
    "\n",
    "#Vertical unit vector in spherical coordinates\n",
    "#This guy is special: it is defined over a meridional basis \n",
    "# (e.g. coupled in radius and theta, but not in phi).\n",
    "#This restricted basis is called the meridional_basis.\n",
    "ez = dist.VectorField(coords, bases=shell.meridional_basis, name='ez')\n",
    "\n",
    "# Eigenvalue\n",
    "omega = dist.Field(name='omega')"
   ]
  },
  {
   "cell_type": "code",
   "execution_count": 5,
   "id": "788099b6-997c-489b-83de-22b887f564c6",
   "metadata": {},
   "outputs": [],
   "source": [
    "#Tau boundary mullifiers (dummy variables permitting the\n",
    "# our spectral representation of boundary conditions)\n",
    "tau_u_ri = dist.VectorField(coords, bases=sphere, name='tau_u_ri')\n",
    "tau_u_ro = dist.VectorField(coords,bases=sphere, name='tau_u_ro')\n",
    "tau_p = dist.Field(name='tau_p')"
   ]
  },
  {
   "cell_type": "code",
   "execution_count": 6,
   "id": "48c5a1f0-eff1-46f0-941d-04435f74ea8e",
   "metadata": {},
   "outputs": [],
   "source": [
    "#Substitutions\n",
    "\n",
    "dt = lambda A: -1j*omega*A #Our eigenvalue operator.\n",
    "\n",
    "#Here we lift the taus onto the shell derivative basis \n",
    "#(So ChebyU in radius and the shifted Jacobi polynomials in latitude)\n",
    "lift_basis = shell.derivative_basis(1) # First derivative basis\n",
    "lift = lambda A: d3.Lift(A, lift_basis, -1)"
   ]
  },
  {
   "cell_type": "code",
   "execution_count": 7,
   "id": "8cf8cc3b-d767-4913-bb99-ba3e92a28dca",
   "metadata": {},
   "outputs": [],
   "source": [
    "#First order formulation\n",
    "rvec = dist.VectorField(coords, bases=shell.meridional_basis, name='rvec')\n",
    "#Radial component, since chebyshev in radius\n",
    "rvec['g'][2] = r\n",
    "#Define the gradient tensor and the first lift for the lower boundary\n",
    "grad_u = d3.grad(u) + rvec*lift(tau_u_ri)\n",
    "\n",
    "#For stress-free boundary conditions\n",
    "strain_rate = d3.grad(u) + d3.transpose(d3.grad(u))\n",
    "\n",
    "#Vertical unit vector\n",
    "ez = dist.VectorField(coords, bases=shell.meridional_basis, name='ez')\n",
    "#Theta component\n",
    "ez['g'][1] = -np.sin(theta)\n",
    "#Radial component\n",
    "ez['g'][2] = np.cos(theta)\n",
    "\n",
    "#Azimuthal velocity vector and associated meridional vorticity in the rotating frame\n",
    "#Radial fit (15 nccs)\n",
    "z = (r-ri)/(ro-ri)\n",
    "fz = 0.05*z-0.05*z**14 #Radial function\n",
    "fzp = (0.05 - 14e0*0.05*z**13)/(ro-ri) #And its derivative\n",
    "\n",
    "#Latitudinal fit (5 nccs)\n",
    "mu = np.cos(theta)\n",
    "gt = 1-0.145*mu**2-0.148*mu**4 #Typical surface latitudinal differential rotation\n",
    "gtp = 2e0*np.sin(theta)*(0.145*mu + 2e0*0.148*mu**3) #And its derivative\n",
    "\n",
    "#Azimuthal velocity\n",
    "v0['g'][0] = 0.5*r*np.sin(theta)*fz*gt\n",
    "\n",
    "#Associated meridional vorticity\n",
    "w0['g'][1] = -0.5*np.sin(theta)*gt*(r*fzp + 2e0*fz)\n",
    "w0['g'][2] = 0.5*fz*(2e0*mu*gt+np.sin(theta)*gtp)"
   ]
  },
  {
   "cell_type": "code",
   "execution_count": 8,
   "id": "f114d086-5225-4adf-803c-8f7f17d92d3c",
   "metadata": {},
   "outputs": [
    {
     "data": {
      "text/plain": [
       "{'LHS': Add(Add(Convert(Add(Add(Add(Add(Convert(Mul(Mul((-0-1j), <Field 140039289389712>), <Field 140041312735056>)), Grad(<Field 140039289389904>)), Convert(Cross(<Field 140039289638864>, <Field 140041312735056>))), Cross(Curl(<Field 140041312735056>), <Field 140039289390288>)), Convert(Cross(<Field 140039289390480>, <Field 140041312735056>)))), Mul(-1, Mul(0.0001, Div(Add(Grad(<Field 140041312735056>), Mul(<Field 140039289269840>, Lift(<Field 140041312297232>))))))), Convert(Lift(<Field 140039289395280>))),\n",
       " 'RHS': 0,\n",
       " 'condition': 'True',\n",
       " 'tensorsig': (<dedalus.core.coords.SphericalCoordinates at 0x7f5d70352750>,),\n",
       " 'dtype': dtype('complex128'),\n",
       " 'M': Convert(Mul((-0-1j), <Field 140041312735056>)),\n",
       " 'L': Add(Add(Convert(Add(Add(Add(Grad(<Field 140039289389904>), Convert(Cross(<Field 140039289638864>, <Field 140041312735056>))), Cross(Curl(<Field 140041312735056>), <Field 140039289390288>)), Convert(Cross(<Field 140039289390480>, <Field 140041312735056>)))), Mul(-1, Mul(0.0001, Div(Add(Grad(<Field 140041312735056>), Mul(<Field 140039289269840>, Lift(<Field 140041312297232>))))))), Convert(Lift(<Field 140039289395280>))),\n",
       " 'domain': <dedalus.core.domain.Domain at 0x7f5d701d2250>,\n",
       " 'matrix_dependence': array([False,  True,  True]),\n",
       " 'matrix_coupling': array([False,  True,  True])}"
      ]
     },
     "execution_count": 8,
     "metadata": {},
     "output_type": "execute_result"
    }
   ],
   "source": [
    "# Problem\n",
    "problem = d3.EVP([p, u, tau_u_ri, tau_u_ro, tau_p], eigenvalue=omega, namespace=locals())\n",
    "\n",
    "#Equations of motion\n",
    "#Continuity + a tau to control the gauge field.\n",
    "problem.add_equation(\"trace(grad_u) + tau_p = 0\")\n",
    "#Momentum equation with the Coriolis force.\n",
    "problem.add_equation(\"dt(u) + grad(p) + cross(ez,u) + cross(curl(u),v0) + cross(w0,u) - Ek*div(grad_u) + lift(tau_u_ro) = 0\")"
   ]
  },
  {
   "cell_type": "code",
   "execution_count": 9,
   "id": "064956f9-032a-4797-a853-bec3f84e94bc",
   "metadata": {},
   "outputs": [],
   "source": [
    "# Pressure Gauge\n",
    "problem.add_equation(\"integ(p) = 0\")\n",
    "\n",
    "#Boundary conditions\n",
    "stress_free=False\n",
    "if (stress_free):\n",
    "    problem.add_equation(\"radial(u(r=ri)) = 0\") #Impenetrable lower boundary\n",
    "    problem.add_equation(\"angular(radial(strain_rate(r=ri),0),0) = 0\") #Stress-free lower boundary\n",
    "    problem.add_equation(\"radial(u(r=ro)) = 0\") #Impenetrable upper boundary\n",
    "    problem.add_equation(\"angular(radial(strain_rate(r=ro),0),0) = 0\") #Stress-free upper boundary\n",
    "else:\n",
    "    problem.add_equation(\"u(r=ri)=0\") #No-slip boundaries\n",
    "    problem.add_equation(\"u(r=ro)=0\")"
   ]
  },
  {
   "cell_type": "code",
   "execution_count": 10,
   "id": "af5441f0-5353-45f4-b460-f2f9539c4ad8",
   "metadata": {},
   "outputs": [
    {
     "name": "stdout",
     "output_type": "stream",
     "text": [
      "2023-03-01 02:45:21,687 subsystems 0/1 INFO :: Building subproblem matrices 1/1 (~100%) Elapsed: 48s, Remaining: 0s, Rate: 2.1e-02/s\n"
     ]
    }
   ],
   "source": [
    "solver = problem.build_solver()\n",
    "ss = solver.subproblems[0].subsystems[0]\n",
    "\n",
    "#Let's use the sparse solver (waaaaay faster).\n",
    "dense=False\n",
    "\n",
    "#Let's ask for 128 eigenvalues\n",
    "neig = 128\n",
    "\n",
    "#Let's set a target for low frequency modes\n",
    "guess = 0e0\n",
    "\n",
    "if (dense):\n",
    "    solver.solve_dense(solver.subproblems[0])\n",
    "else:\n",
    "    solver.solve_sparse(solver.subproblems[0], neig, guess)\n"
   ]
  },
  {
   "cell_type": "code",
   "execution_count": 11,
   "id": "696fd787-4927-404b-9f07-c620ebe5dcba",
   "metadata": {},
   "outputs": [],
   "source": [
    "namespace = {}\n",
    "solver.evaluator = evaluator.Evaluator(solver.dist, namespace)\n",
    "\n",
    "if not os.path.exists('{:s}'.format(data_dir)):\n",
    "    os.mkdir('{:s}'.format(data_dir))\n",
    "\n",
    "np.save(data_dir+'/eigenvalues.npy',solver.eigenvalues)\n",
    "path = data_dir + '/checkpoints'\n",
    "checkpoint = solver.evaluator.add_file_handler(path, max_writes=1)\n",
    "checkpoint.add_tasks(solver.state)\n",
    "\n",
    "for i in range(neig):\n",
    "    solver.set_state(i, ss)\n",
    "    solver.evaluator.evaluate_handlers([checkpoint],sim_time=1,wall_time=1,timestep=1,iteration=1)"
   ]
  },
  {
   "cell_type": "code",
   "execution_count": 12,
   "id": "182225e6-c37a-43c7-ae75-bdba4dfe15a0",
   "metadata": {},
   "outputs": [
    {
     "data": {
      "image/png": "[encoded data removed]",
      "text/plain": [
       "<Figure size 640x480 with 1 Axes>"
      ]
     },
     "metadata": {},
     "output_type": "display_data"
    }
   ],
   "source": [
    "import matplotlib.pyplot as plt\n",
    "\n",
    "fig,ax=plt.subplots()\n",
    "\n",
    "exists  = os.path.isdir(data_dir)\n",
    "if (exists):\n",
    "    eigs = np.load(data_dir+'/eigenvalues.npy')\n",
    "    ax.scatter(eigs.real,eigs.imag,label='64x64',marker='x',alpha=1,s=50)\n",
    "\n",
    "ax.set_xlabel('Real')\n",
    "ax.set_ylabel('Imag')\n",
    "ax.legend()\n",
    "fig.savefig('Eigs_compare_diff_0.png', dpi=600)"
   ]
  },
  {
   "cell_type": "code",
   "execution_count": null,
   "id": "876f395a-ae19-4400-b09e-b992c08512ac",
   "metadata": {},
   "outputs": [],
   "source": []
  }
 ],
 "metadata": {
  "kernelspec": {
   "display_name": "Python 3 (ipykernel)",
   "language": "python",
   "name": "python3"
  },
  "language_info": {
   "codemirror_mode": {
    "name": "ipython",
    "version": 3
   },
   "file_extension": ".py",
   "mimetype": "text/x-python",
   "name": "python",
   "nbconvert_exporter": "python",
   "pygments_lexer": "ipython3",
   "version": "3.11.0"
  }
 },
 "nbformat": 4,
 "nbformat_minor": 5
}
