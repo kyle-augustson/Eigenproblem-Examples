{
 "cells": [
  {
   "cell_type": "markdown",
   "id": "cd8e1f67-d959-42be-86d3-753cd2c21f68",
   "metadata": {},
   "source": [
    "Alright onto more helio-relevant problems.  Let's consider diffusive inertial waves in a differentially rotating system with a constant density.  This system can be written as\n",
    "\n",
    "$$\n",
    "\\partial_t \\vec{u} + \\nabla p + \\hat{e}_z\\times \\vec{u} + \\left(\\nabla\\times\\vec{u}\\right)\\times\\vec{v}_0 + \\vec{\\omega}_0\\times\\vec{u} - Ek \\nabla^2 \\vec{u} = 0,\\\\\n",
    "\\nabla\\cdot\\vec{u} = 0,\n",
    "$$\n",
    "\n",
    "where $Ek$ is the Ekman number defined here as $\\nu/(2\\Omega_0 R^2)$, with $\\nu$ the kinematic viscosity, $\\Omega_0$ the bulk rotation rate, and $R$ the radius of the outer bounding sphere. Likewise, $\\vec{u}$ is the velocity, and $p$ a gauge field. Turning this into an eigenproblem, we assume oscillatory modes such that $\\vec{u} = \\overline{u} e^{-i\\omega t}$, more generally there can be non-normal behavior such that $\\vec{u} = \\overline{u} g(t)$ for some hopefully bounded $g(t)$. To assess that we can use pseudospectra, but I'll save that for another time.\n",
    "\n",
    "For now let us also consider all background velocities $\\vec{v}_0$ and vorticities $\\vec{\\omega}_0$ in the rotating frame to be zero."
   ]
  },
  {
   "cell_type": "code",
   "execution_count": null,
   "id": "3327a14c-c5a0-4e1d-9bf6-7d851a8985ad",
   "metadata": {},
   "outputs": [],
   "source": [
    "#Let's get ourselves started with a few module imports.\n",
    "import os\n",
    "import numpy as np\n",
    "import dedalus.public as d3\n",
    "from dedalus.core import evaluator #currently necessary, will be obsolete soon."
   ]
  },
  {
   "cell_type": "code",
   "execution_count": null,
   "id": "606979e3-766c-4063-9ca7-99fad6d026aa",
   "metadata": {},
   "outputs": [],
   "source": [
    "#Datatype\n",
    "dtype = np.complex128\n",
    "\n",
    "#Problem Parameters\n",
    "nphi=1 #We are going to look at axisymmetric waves here.\n",
    "ntheta=128 #Number of grid points in latitude (Legendre weights)\n",
    "nr=32 #Number of grid points in radius (Chebyshev weights)\n",
    "\n",
    "ri = 0.70    #Inner radius\n",
    "ro = 1.00    #Outer radius\n",
    "Ek = 1e-4    #Ekman number\n",
    "\n",
    "# Set up output directory for eigenmodes\n",
    "label='0'\n",
    "data_dir = 'Inertial_Waves_Ek{:.2f}'.format(np.log10(Ek))+'_'+label\n",
    "\n",
    "#Define radii for coordinate system creators\n",
    "radii = (ri,ro)"
   ]
  },
  {
   "cell_type": "code",
   "execution_count": null,
   "id": "5f4f3868-4cbb-4b75-8ac9-4af8ffdc99b5",
   "metadata": {},
   "outputs": [],
   "source": [
    "#For eigenproblems there's no MPI mesh for dedalus, but there can be for SLEPc.\n",
    "mesh = None\n",
    "# Bases\n",
    "coords = d3.SphericalCoordinates('phi', 'theta', 'r') #Define the spherical coordinate names\n",
    "dist = d3.Distributor(coords, mesh=mesh, dtype=dtype) #Set up the internal communicators and initialize.\n",
    "#Define a shell basis (so Tensor spherical harmonics and a Chebyshev radial basis)\n",
    "shell = d3.ShellBasis(coords, shape=(nphi,ntheta,nr), radii=radii, dtype=dtype)\n",
    "sphere = shell.outer_surface #Define the bounding sphere coordinate systems (e.g. S_2)\n",
    "phi, theta, r = dist.local_grids(shell) #Get local coordinate arrays"
   ]
  },
  {
   "cell_type": "code",
   "execution_count": null,
   "id": "1b0d83b5-0d04-405b-997a-af7248757b6c",
   "metadata": {},
   "outputs": [],
   "source": [
    "# Fields over the shell\n",
    "u = dist.VectorField(coords, bases=shell, name='u') #Vector velocity field\n",
    "p = dist.Field(bases=shell, name='p') #Gauge field.\n",
    "\n",
    "#Vertical unit vector in spherical coordinates\n",
    "#This guy is special: it is defined over a meridional basis \n",
    "# (e.g. coupled in radius and theta, but not in phi).\n",
    "#This restricted basis is called the meridional_basis.\n",
    "ez = dist.VectorField(coords, bases=shell.meridional_basis, name='ez')\n",
    "\n",
    "# Eigenvalue\n",
    "omega = dist.Field(name='omega')"
   ]
  },
  {
   "cell_type": "code",
   "execution_count": null,
   "id": "788099b6-997c-489b-83de-22b887f564c6",
   "metadata": {},
   "outputs": [],
   "source": [
    "#Tau boundary mullifiers (dummy variables permitting the\n",
    "# our spectral representation of boundary conditions)\n",
    "tau_u_ri = dist.VectorField(coords, bases=sphere, name='tau_u_ri')\n",
    "tau_u_ro = dist.VectorField(coords,bases=sphere, name='tau_u_ro')\n",
    "tau_p = dist.Field(name='tau_p')"
   ]
  },
  {
   "cell_type": "code",
   "execution_count": null,
   "id": "48c5a1f0-eff1-46f0-941d-04435f74ea8e",
   "metadata": {},
   "outputs": [],
   "source": [
    "#Substitutions\n",
    "\n",
    "dt = lambda A: -1j*omega*A #Our eigenvalue operator.\n",
    "\n",
    "#Here we lift the taus onto the shell derivative basis \n",
    "#(So ChebyU in radius and the shifted Jacobi polynomials in latitude)\n",
    "lift_basis = shell.derivative_basis(1) # First derivative basis\n",
    "lift = lambda A: d3.Lift(A, lift_basis, -1)"
   ]
  },
  {
   "cell_type": "code",
   "execution_count": null,
   "id": "8cf8cc3b-d767-4913-bb99-ba3e92a28dca",
   "metadata": {},
   "outputs": [],
   "source": [
    "#First order formulation\n",
    "rvec = dist.VectorField(coords, bases=shell.meridional_basis, name='rvec')\n",
    "#Radial component, since chebyshev in radius\n",
    "rvec['g'][2] = r\n",
    "#Define the gradient tensor and the first lift for the lower boundary\n",
    "grad_u = d3.grad(u) + rvec*lift(tau_u_ri)\n",
    "\n",
    "#For stress-free boundary conditions\n",
    "strain_rate = d3.grad(u) + d3.transpose(d3.grad(u))\n",
    "\n",
    "#Vertical unit vector\n",
    "ez = dist.VectorField(coords, bases=shell.meridional_basis, name='ez')\n",
    "#Theta component\n",
    "ez['g'][1] = -np.sin(theta)\n",
    "#Radial component\n",
    "ez['g'][2] = np.cos(theta)"
   ]
  },
  {
   "cell_type": "code",
   "execution_count": null,
   "id": "f114d086-5225-4adf-803c-8f7f17d92d3c",
   "metadata": {},
   "outputs": [],
   "source": [
    "# Problem\n",
    "problem = d3.EVP([p, u, tau_u_ri, tau_u_ro, tau_p], eigenvalue=omega, namespace=locals())\n",
    "\n",
    "#Equations of motion\n",
    "#Continuity + a tau to control the gauge field.\n",
    "problem.add_equation(\"trace(grad_u) + tau_p = 0\")\n",
    "#Momentum equation with the Coriolis force.\n",
    "problem.add_equation(\"dt(u) + grad(p) + cross(ez,u) - Ek*div(grad_u) + lift(tau_u_ro) = 0\")"
   ]
  },
  {
   "cell_type": "code",
   "execution_count": null,
   "id": "064956f9-032a-4797-a853-bec3f84e94bc",
   "metadata": {},
   "outputs": [],
   "source": [
    "# Pressure Gauge\n",
    "problem.add_equation(\"integ(p) = 0\")\n",
    "\n",
    "#Boundary conditions\n",
    "stress_free=False\n",
    "if (stress_free):\n",
    "    problem.add_equation(\"radial(u(r=ri)) = 0\") #Impenetrable lower boundary\n",
    "    problem.add_equation(\"angular(radial(strain_rate(r=ri),0),0) = 0\") #Stress-free lower boundary\n",
    "    problem.add_equation(\"radial(u(r=ro)) = 0\") #Impenetrable upper boundary\n",
    "    problem.add_equation(\"angular(radial(strain_rate(r=ro),0),0) = 0\") #Stress-free upper boundary\n",
    "else:\n",
    "    problem.add_equation(\"u(r=ri)=0\") #No-slip boundaries\n",
    "    problem.add_equation(\"u(r=ro)=0\")"
   ]
  },
  {
   "cell_type": "code",
   "execution_count": null,
   "id": "af5441f0-5353-45f4-b460-f2f9539c4ad8",
   "metadata": {},
   "outputs": [],
   "source": [
    "solver = problem.build_solver()\n",
    "ss = solver.subproblems[0].subsystems[0]\n",
    "\n",
    "#Let's use the sparse solver (waaaaay faster).\n",
    "dense=False\n",
    "\n",
    "#Let's ask for 128 eigenvalues\n",
    "neig = 128\n",
    "\n",
    "#Let's set a target for low frequency modes\n",
    "guess = 0e0\n",
    "\n",
    "if (dense):\n",
    "    solver.solve_dense(solver.subproblems[0])\n",
    "else:\n",
    "    solver.solve_sparse(solver.subproblems[0], neig, guess)\n"
   ]
  },
  {
   "cell_type": "code",
   "execution_count": null,
   "id": "696fd787-4927-404b-9f07-c620ebe5dcba",
   "metadata": {},
   "outputs": [],
   "source": [
    "namespace = {}\n",
    "solver.evaluator = evaluator.Evaluator(solver.dist, namespace)\n",
    "\n",
    "if not os.path.exists('{:s}'.format(data_dir)):\n",
    "    os.mkdir('{:s}'.format(data_dir))\n",
    "\n",
    "np.save(data_dir+'/eigenvalues.npy',solver.eigenvalues)\n",
    "path = data_dir + '/checkpoints'\n",
    "checkpoint = solver.evaluator.add_file_handler(path, max_writes=1)\n",
    "checkpoint.add_tasks(solver.state)\n",
    "\n",
    "for i in range(neig):\n",
    "    solver.set_state(i, ss)\n",
    "    solver.evaluator.evaluate_handlers([checkpoint],sim_time=1,wall_time=1,timestep=1,iteration=1)"
   ]
  },
  {
   "cell_type": "code",
   "execution_count": null,
   "id": "182225e6-c37a-43c7-ae75-bdba4dfe15a0",
   "metadata": {},
   "outputs": [],
   "source": [
    "import matplotlib.pyplot as plt\n",
    "\n",
    "fig,ax=plt.subplots()\n",
    "\n",
    "exists  = os.path.isdir(data_dir)\n",
    "if (exists):\n",
    "    eigs = np.load(data_dir+'/eigenvalues.npy')\n",
    "    ax.scatter(eigs.real,eigs.imag,label='128x32',marker='x',alpha=1,s=50)\n",
    "\n",
    "ax.set_xlabel('Real')\n",
    "ax.set_ylabel('Imag')\n",
    "ax.legend()\n",
    "fig.savefig('Eigs_compare_0.png', dpi=600)"
   ]
  },
  {
   "cell_type": "markdown",
   "id": "fc165c41-3d3c-4124-a4da-8e14062f7b23",
   "metadata": {},
   "source": [
    "Let's see what some of these modes look like!"
   ]
  },
  {
   "cell_type": "code",
   "execution_count": null,
   "id": "a2965409-fcec-4519-869a-c2eb6686e3db",
   "metadata": {},
   "outputs": [],
   "source": [
    "#Find a mode:\n",
    "idx = np.where(eigs.imag>-0.1)[0]\n",
    "phig, thetag, rg = shell.global_grids((1, 4, 3/2)) #Get local coordinate arrays\n",
    "thetas = np.array(thetag).flatten()\n",
    "rads = np.array(rg).flatten()\n",
    "\n",
    "for jj in idx:\n",
    "    solver.set_state(jj, ss)\n",
    "    u.change_scales((1,4,3/2))\n",
    "    u.require_grid_space()\n",
    "\n",
    "    p.change_scales((1,4,3/2))\n",
    "    p.require_grid_space()\n",
    "\n",
    "    x = thetas\n",
    "    y = rads\n",
    "    x = np.pi/2 - x\n",
    "    xx, yy = np.meshgrid(x, y)\n",
    "\n",
    "    fig = plt.figure(figsize=[8,6],dpi=200,constrained_layout=False,linewidth=2.0)\n",
    "    data = [u['g'][2][0],u['g'][1][0],u['g'][0][0],p['g'][0]]\n",
    "    labels = ['(a)','(b)','(c)','(d)']\n",
    "    labels2 = [r'$u_r$',r'$u_\\theta$',r'$u_\\phi$',r'$p$']\n",
    "    cmaps = ['PiYG','PRGn','RdYlGn','RdYlBu']\n",
    "    saturation = 0.99\n",
    "\n",
    "    for ii in np.arange(4):\n",
    "        pos = [-0.21+ii*0.16,0.02,0.9,0.96]\n",
    "        pb = fig.add_axes(pos,projection='polar')\n",
    "        pb.set_xticklabels([])\n",
    "        pb.set_yticklabels([])\n",
    "    \n",
    "        field = data[ii].real\n",
    "        print(np.shape(field))\n",
    "        vals = np.sort(np.abs(field.flatten()))\n",
    "        vals = np.sort(vals)\n",
    "        vmax = vals[int(saturation*len(vals))]\n",
    "        vmin = -vmax\n",
    "        print(vmin,vmax)\n",
    "   \n",
    "        meplot = pb.pcolormesh(xx, yy, field.T, cmap=cmaps[ii], vmin=vmin, vmax=vmax, rasterized=False, shading='auto')\n",
    "        #if (ii % 2 ==0):\n",
    "        #    meplot2 = pb.contour(xx,yy,field.T,16,colors='xkcd:grey')\n",
    "            \n",
    "        pb.set_theta_offset(0)\n",
    "        pb.set_thetalim([-np.pi/2,np.pi/2])\n",
    "        pb.set_rlim(0.89,0.99)\n",
    "        pb.set_rorigin(0)\n",
    "        pb.set_aspect(1)\n",
    "        pb.grid(False)\n",
    "        pb.text(0.33,0.95,labels[ii],transform=pb.transAxes,fontsize=20)\n",
    "        pb.text(0.62,0.03,labels2[ii],transform=pb.transAxes,fontsize=20)\n",
    "    \n",
    "    fig.savefig('Inertial_Wave_Eigenmode_{:d}'.format(jj)+'.png')"
   ]
  },
  {
   "cell_type": "code",
   "execution_count": null,
   "id": "941b25d5-4b8f-445a-b9a4-7ddfbf24fb45",
   "metadata": {},
   "outputs": [],
   "source": []
  }
 ],
 "metadata": {
  "kernelspec": {
   "display_name": "Python 3 (ipykernel)",
   "language": "python",
   "name": "python3"
  },
  "language_info": {
   "codemirror_mode": {
    "name": "ipython",
    "version": 3
   },
   "file_extension": ".py",
   "mimetype": "text/x-python",
   "name": "python",
   "nbconvert_exporter": "python",
   "pygments_lexer": "ipython3",
   "version": "3.11.0"
  }
 },
 "nbformat": 4,
 "nbformat_minor": 5
}
